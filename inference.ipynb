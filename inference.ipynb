{
 "cells": [
  {
   "cell_type": "markdown",
   "id": "be669f2b-4739-44a8-868d-d23199ed3e18",
   "metadata": {},
   "source": [
    "# PASCAL VOC 2007"
   ]
  },
  {
   "cell_type": "code",
   "execution_count": 38,
   "id": "649934e1-9849-4c23-a277-4b819d1d8411",
   "metadata": {},
   "outputs": [
    {
     "name": "stdout",
     "output_type": "stream",
     "text": [
      "4952\n"
     ]
    }
   ],
   "source": [
    "from pathlib import Path\n",
    "from natsort import natsorted\n",
    "\n",
    "# image_dir = Path('./dataset/PASCALVOC2007/VOCtrainval_06-Nov-2007/VOCdevkit/VOC2007/JPEGImages/')\n",
    "# label_dir = Path('./dataset/PASCALVOC2007/VOCtrainval_06-Nov-2007/VOCdevkit/VOC2007/Annotations/')\n",
    "\n",
    "image_dir = Path('./dataset/PASCALVOC2007/VOCtest_06-Nov-2007/VOCdevkit/VOC2007/JPEGImages/')\n",
    "label_dir = Path('./dataset/PASCALVOC2007/VOCtest_06-Nov-2007/VOCdevkit/VOC2007/Annotations/')\n",
    "\n",
    "image_pattern = '*.jpg'\n",
    "label_pattern = '*.xml'\n",
    "\n",
    "image_paths = natsorted(image_dir.glob(image_pattern), key=lambda x: x.stem)\n",
    "label_paths = natsorted(label_dir.glob(label_pattern), key=lambda x: x.stem)\n",
    "\n",
    "data_pairs = [(image_path, label_path) for image_path, label_path in zip(image_paths, label_paths) if image_path.stem == label_path.stem]\n",
    "\n",
    "print(len(data_pairs))"
   ]
  },
  {
   "cell_type": "markdown",
   "id": "7398d0c2-c5f2-4303-93bc-b7ac3d881e1e",
   "metadata": {},
   "source": [
    "# Dataset"
   ]
  },
  {
   "cell_type": "code",
   "execution_count": 39,
   "id": "88a0324a-ae77-41ee-84ea-31cfe37eb2eb",
   "metadata": {},
   "outputs": [
    {
     "data": {
      "text/plain": [
       "{'train': 6376, 'test': 1993, 'valid': 1594}"
      ]
     },
     "execution_count": 39,
     "metadata": {},
     "output_type": "execute_result"
    }
   ],
   "source": [
    "from pathlib import Path\n",
    "from natsort import natsorted\n",
    "\n",
    "datadir = Path('./dataset/VOC2007/')\n",
    "image_pattern = '*.jpg'\n",
    "label_pattern = '*.xml'\n",
    "\n",
    "statistics = {}\n",
    "\n",
    "for set_name in ['train', 'test', 'valid']:\n",
    "    image_paths = natsorted(datadir.joinpath(set_name).glob(image_pattern), key=lambda x: x.stem)\n",
    "    label_paths = natsorted(datadir.joinpath(set_name).glob(label_pattern), key=lambda x: x.stem)\n",
    "    data_pairs = [(image_path, label_path) for image_path, label_path in zip(image_paths, label_paths) if image_path.stem == label_path.stem]\n",
    "    statistics[set_name] = len(data_pairs)\n",
    "statistics"
   ]
  },
  {
   "cell_type": "code",
   "execution_count": 40,
   "id": "3e16cd81-4084-410c-817b-fe8c73b5b683",
   "metadata": {},
   "outputs": [
    {
     "name": "stdout",
     "output_type": "stream",
     "text": [
      "JPEGImages: 4952\n",
      "number of dataset: 4952\n"
     ]
    }
   ],
   "source": [
    "from flame.core.data.voc2007_dataset import VOC2007Dataset\n",
    "\n",
    "import cv2\n",
    "import torch\n",
    "import numpy as np\n",
    "import imgaug.augmenters as iaa\n",
    "from torch.utils.data import DataLoader\n",
    "\n",
    "classes2idx = {'aeroplane': 0, 'bicycle': 1, 'bird': 2, 'boat': 3, 'bottle': 4,\n",
    "               'bus': 5, 'car': 6, 'cat': 7, 'chair': 8, 'cow': 9, 'diningtable': 10,\n",
    "               'dog': 11, 'horse': 12, 'motorbike': 13, 'person': 14, 'pottedplant': 15,\n",
    "               'sheep': 16, 'sofa': 17, 'train': 18, 'tvmonitor': 19}\n",
    "\n",
    "transforms = [iaa.Add(value=(-10, 10), per_channel=True),\n",
    "              iaa.GaussianBlur(sigma=(0, 1)),\n",
    "              iaa.MotionBlur(),\n",
    "              iaa.JpegCompression(compression=(0, 10)),\n",
    "              iaa.Fliplr(p=0.5),\n",
    "              iaa.Flipud(p=0.5),\n",
    "              iaa.Grayscale(alpha=(0.0, 0.1)),\n",
    "#               iaa.Rot90(k=[0, 1, 2, 3], keep_size=False),\n",
    "              iaa.Affine(rotate=(-5, 5), shear=(-5, 5), fit_output=True),\n",
    "              iaa.Crop(percent=(0, 0.1)),\n",
    "              iaa.Pad(percent=(0, 0.1), keep_size=False),\n",
    "              iaa.ChangeColorTemperature()]\n",
    "\n",
    "image_dir = './dataset/PASCALVOC2007/VOCtest_06-Nov-2007/VOCdevkit/VOC2007/JPEGImages/'\n",
    "label_dir = './dataset/PASCALVOC2007/VOCtest_06-Nov-2007/VOCdevkit/VOC2007/Annotations/'\n",
    "\n",
    "voc2007_dataset = VOC2007Dataset(image_dir=image_dir, label_dir=label_dir,\n",
    "                                 image_pattern='*.jpg', label_pattern='*.xml',\n",
    "                                 mean=[0.485, 0.456, 0.406], std=[0.229, 0.224, 0.225], compound_coef=0,\n",
    "                                 classes=classes2idx, transforms=transforms)\n",
    "\n",
    "print(f'number of dataset: {len(voc2007_dataset)}')"
   ]
  },
  {
   "cell_type": "code",
   "execution_count": 42,
   "id": "37d59d25-85b9-4f99-83c1-fe786308ef68",
   "metadata": {},
   "outputs": [
    {
     "name": "stdout",
     "output_type": "stream",
     "text": [
      "(['dataset/PASCALVOC2007/VOCtest_06-Nov-2007/VOCdevkit/VOC2007/JPEGImages/000001.jpg', (353, 500)], ['dataset/PASCALVOC2007/VOCtest_06-Nov-2007/VOCdevkit/VOC2007/JPEGImages/000002.jpg', (335, 500)])\n",
      "(['dataset/PASCALVOC2007/VOCtest_06-Nov-2007/VOCdevkit/VOC2007/JPEGImages/000003.jpg', (500, 375)], ['dataset/PASCALVOC2007/VOCtest_06-Nov-2007/VOCdevkit/VOC2007/JPEGImages/000004.jpg', (500, 406)])\n"
     ]
    }
   ],
   "source": [
    "voc_loader = DataLoader(voc2007_dataset, batch_size=2, shuffle=False, collate_fn=lambda x: tuple(zip(*x)))\n",
    "\n",
    "mean = torch.tensor([0.485, 0.456, 0.406], dtype=torch.float).view(3, 1, 1)\n",
    "std = torch.tensor([0.229, 0.224, 0.225], dtype=torch.float).view(3, 1, 1)\n",
    "idx2class = {idx: label_name for label_name, idx in classes2idx.items()}\n",
    "\n",
    "for i, voc_data in enumerate(iter(voc_loader)):\n",
    "    samples, targets, sample_infos = voc_data\n",
    "    print(sample_infos)\n",
    "    for sample, target in zip(samples, targets):\n",
    "        image = ((sample * std + mean) * 255).permute(1, 2, 0).to(torch.uint8).cpu().numpy()\n",
    "        image = cv2.cvtColor(image, cv2.COLOR_RGB2BGR)\n",
    "        boxes = target['boxes'].data.cpu().numpy().astype(np.int32)\n",
    "        labels = target['labels'].data.cpu().numpy().astype(np.int32)\n",
    "        for box, label in zip(boxes, labels):\n",
    "            if label != -1:\n",
    "                image = np.ascontiguousarray(image)\n",
    "                cv2.rectangle(img=image, pt1=(int(box[0]), int(box[1])), pt2=(int(box[2]), int(box[3])),\n",
    "                              color=(0, 255, 0), thickness=1)\n",
    "                cv2.putText(img=image, text=idx2class[int(label)], org=tuple(box[:2]),\n",
    "                            fontFace=cv2.FONT_HERSHEY_SIMPLEX, fontScale=0.001 * max(image.shape[0], image.shape[1]),\n",
    "                            color=(0, 0, 255), thickness=1, lineType=cv2.LINE_AA)\n",
    "        cv2.imshow('image', image)\n",
    "        cv2.waitKey()\n",
    "        cv2.destroyAllWindows()\n",
    "    if i == 1:\n",
    "        break"
   ]
  },
  {
   "cell_type": "markdown",
   "id": "9d269e36-c455-4323-9ec7-9558af287faf",
   "metadata": {},
   "source": [
    "# Dataset TABLE"
   ]
  },
  {
   "cell_type": "code",
   "execution_count": 16,
   "id": "57db2db5-1ab5-4def-8861-21c4603f956e",
   "metadata": {},
   "outputs": [
    {
     "data": {
      "text/plain": [
       "{'train': 216, 'test': 65, 'valid': 54}"
      ]
     },
     "execution_count": 16,
     "metadata": {},
     "output_type": "execute_result"
    }
   ],
   "source": [
    "from pathlib import Path\n",
    "from natsort import natsorted\n",
    "\n",
    "datadir = Path('./dataset/TABLE/')\n",
    "image_pattern = '**/*.jpg'\n",
    "label_pattern = '**/*.json'\n",
    "\n",
    "statistics = {}\n",
    "\n",
    "for set_name in ['train', 'test', 'valid']:\n",
    "    image_paths = natsorted(datadir.joinpath(set_name).glob(image_pattern), key=lambda x: x.stem)\n",
    "    label_paths = natsorted(datadir.joinpath(set_name).glob(label_pattern), key=lambda x: x.stem)\n",
    "    data_pairs = [(image_path, label_path) for image_path, label_path in zip(image_paths, label_paths) if image_path.stem == label_path.stem]\n",
    "    statistics[set_name] = len(data_pairs)\n",
    "\n",
    "statistics"
   ]
  },
  {
   "cell_type": "code",
   "execution_count": 20,
   "id": "c1beb3ac-46e3-48bc-b32e-90f16ed91ca7",
   "metadata": {},
   "outputs": [
    {
     "name": "stdout",
     "output_type": "stream",
     "text": [
      "train: 216\n",
      "number of dataset: 216\n"
     ]
    }
   ],
   "source": [
    "from flame.core.data.table_dataset import TableDataset\n",
    "\n",
    "import cv2\n",
    "import torch\n",
    "import numpy as np\n",
    "import imgaug.augmenters as iaa\n",
    "from torch.utils.data import DataLoader\n",
    "\n",
    "classes = {'TABLE': 0, 'borderless_table': 0, 'bordered_table': 0, 'color_table': 0}\n",
    "\n",
    "transforms = [iaa.Add(value=(-10, 10), per_channel=True),\n",
    "              iaa.GaussianBlur(sigma=(0, 1)),\n",
    "              iaa.MotionBlur(),\n",
    "              iaa.JpegCompression(compression=(0, 10)),\n",
    "              iaa.Fliplr(p=0.5),\n",
    "              iaa.Flipud(p=0.5),\n",
    "              iaa.Grayscale(alpha=(0.0, 0.1)),\n",
    "#               iaa.Rot90(k=[0, 1, 2, 3], keep_size=False),\n",
    "              iaa.Affine(rotate=(-5, 5), shear=(-5, 5), fit_output=True),\n",
    "              iaa.Crop(percent=(0, 0.1)),\n",
    "              iaa.Pad(percent=(0, 0.1), keep_size=False),\n",
    "              iaa.ChangeColorTemperature()]\n",
    "\n",
    "\n",
    "table_dataset = TableDataset(dirname='./dataset/TABLE/train/', image_patterns=['*.jpg'], label_patterns=['*.json'],\n",
    "                             mean=[0.485, 0.456, 0.406], std=[0.229, 0.224, 0.225], compound_coef=0,\n",
    "                             classes=classes, transforms=transforms)\n",
    "\n",
    "print(f'number of dataset: {len(table_dataset)}')"
   ]
  },
  {
   "cell_type": "code",
   "execution_count": 23,
   "id": "7fbc583d-1278-46e4-ac09-abe16c4f32e3",
   "metadata": {},
   "outputs": [],
   "source": [
    "voc_loader = DataLoader(table_dataset, batch_size=2, shuffle=True, collate_fn=lambda x: tuple(zip(*x)))\n",
    "\n",
    "mean = torch.tensor([0.485, 0.456, 0.406], dtype=torch.float).view(3, 1, 1)\n",
    "std = torch.tensor([0.229, 0.224, 0.225], dtype=torch.float).view(3, 1, 1)\n",
    "idx2class = {idx: label_name for label_name, idx in classes.items()}\n",
    "\n",
    "for i, voc_data in enumerate(iter(voc_loader)):\n",
    "    samples, targets, sample_infos = voc_data\n",
    "    for sample, target in zip(samples, targets):\n",
    "        image = ((sample * std + mean) * 255).permute(1, 2, 0).to(torch.uint8).cpu().numpy()\n",
    "        image = cv2.cvtColor(image, cv2.COLOR_RGB2BGR)\n",
    "        boxes = target['boxes'].data.cpu().numpy().astype(np.int32)\n",
    "        labels = target['labels'].data.cpu().numpy().astype(np.int32)\n",
    "        for box, label in zip(boxes, labels):\n",
    "            if label != -1:\n",
    "                image = np.ascontiguousarray(image)\n",
    "                cv2.rectangle(img=image, pt1=(int(box[0]), int(box[1])), pt2=(int(box[2]), int(box[3])),\n",
    "                              color=(0, 255, 0), thickness=1)\n",
    "                cv2.putText(img=image, text=idx2class[int(label)], org=tuple(box[:2]),\n",
    "                            fontFace=cv2.FONT_HERSHEY_SIMPLEX, fontScale=0.001 * max(image.shape[0], image.shape[1]),\n",
    "                            color=(0, 0, 255), thickness=1, lineType=cv2.LINE_AA)\n",
    "        cv2.imshow('image', image)\n",
    "        cv2.waitKey()\n",
    "        cv2.destroyAllWindows()\n",
    "    if i == 1:\n",
    "        break"
   ]
  },
  {
   "cell_type": "markdown",
   "id": "e97cdf72-6115-4a4b-b5cf-a09ada3581cb",
   "metadata": {},
   "source": [
    "# Model"
   ]
  },
  {
   "cell_type": "code",
   "execution_count": 23,
   "id": "b3808523-ae0c-49cd-8c24-743791adedd4",
   "metadata": {},
   "outputs": [],
   "source": [
    "import torch\n",
    "from flame.core.model.EfficientDetV1.efficientdet import EfficientDet\n",
    "\n",
    "pretrained_weight = './checkpoint/efficientdet_pretrained_weight/efficientdet-d0.pth'\n",
    "head_only = False\n",
    "num_classes = 20\n",
    "compound_coef = 0\n",
    "backbone_pretrained = False\n",
    "scales = [2 ** 0, 2 ** (1.0 / 3.0), 2 ** (2.0 / 3.0)]\n",
    "aspect_ratios = [(1.0, 1.0), (1.4, 0.7), (0.7, 1.4)]\n",
    "iou_threshold = 0.2\n",
    "score_threshold = 0.2\n",
    "\n",
    "model = EfficientDet(pretrained_weight=pretrained_weight,\n",
    "                     head_only=head_only,\n",
    "                     num_classes=num_classes,\n",
    "                     compound_coef=compound_coef,\n",
    "                     backbone_pretrained=backbone_pretrained,\n",
    "                     scales=scales, aspect_ratios=aspect_ratios,\n",
    "                     iou_threshold=iou_threshold,\n",
    "                     score_threshold=score_threshold)\n",
    "model = model.train()"
   ]
  },
  {
   "cell_type": "code",
   "execution_count": 24,
   "id": "d2418cbb-f125-43c1-8e9f-f5bc99a08a5a",
   "metadata": {},
   "outputs": [
    {
     "name": "stdout",
     "output_type": "stream",
     "text": [
      "3839117\n"
     ]
    }
   ],
   "source": [
    "total_params = sum(param.numel() for param in model.parameters() if param.requires_grad)\n",
    "print(total_params)"
   ]
  },
  {
   "cell_type": "code",
   "execution_count": 25,
   "id": "509dba0f-f9b3-4e8f-93c0-782bc95cba18",
   "metadata": {},
   "outputs": [],
   "source": [
    "from prettytable import PrettyTable\n",
    "\n",
    "def count_parameters(model):\n",
    "    table = PrettyTable([\"Modules\", \"Parameters\"])\n",
    "    total_params = 0\n",
    "    for name, parameter in model.named_parameters():\n",
    "        if not parameter.requires_grad: continue\n",
    "        param = parameter.numel()\n",
    "        table.add_row([name, param])\n",
    "        total_params+=param\n",
    "    print(table)\n",
    "    print(f\"Total Trainable Params: {total_params}\")\n",
    "    return total_params\n",
    "\n",
    "# count_parameters(model)"
   ]
  },
  {
   "cell_type": "code",
   "execution_count": 30,
   "id": "290f88d6-7be2-4a19-9b98-ffbb38c84b77",
   "metadata": {},
   "outputs": [],
   "source": [
    "voc_iter = iter(voc_loader)\n",
    "samples, targets, image_infos = voc_iter.next()\n",
    "\n",
    "device = 'cuda' if torch.cuda.is_available() else 'cpu'\n",
    "samples = torch.stack([sample.to(device) for sample in samples], dim=0)"
   ]
  },
  {
   "cell_type": "code",
   "execution_count": 31,
   "id": "7d98da99-b16a-42c0-861e-cb6d8cc0bc27",
   "metadata": {},
   "outputs": [
    {
     "name": "stdout",
     "output_type": "stream",
     "text": [
      "torch.Size([2, 49104, 20])\n",
      "torch.Size([2, 49104, 4])\n",
      "torch.Size([1, 49104, 4])\n"
     ]
    }
   ],
   "source": [
    "cls_preds, reg_preds, anchors = model(samples)\n",
    "print(cls_preds.shape)\n",
    "print(reg_preds.shape)\n",
    "print(anchors.shape)"
   ]
  },
  {
   "cell_type": "markdown",
   "id": "88eac498-ca7d-42c3-a4c0-33db8c5ba7d6",
   "metadata": {},
   "source": [
    "# Loss"
   ]
  },
  {
   "cell_type": "code",
   "execution_count": 32,
   "id": "5ea32470-a543-4338-abcf-1391588759fe",
   "metadata": {},
   "outputs": [],
   "source": [
    "from flame.core.loss.focal_loss import FocalLoss\n",
    "\n",
    "loss = FocalLoss(alpha=0.25, gamma=2.0, lamda=50.0, device='cpu')"
   ]
  },
  {
   "cell_type": "code",
   "execution_count": 34,
   "id": "326e7773-c3bb-4a29-a190-dbce95f7ee23",
   "metadata": {},
   "outputs": [
    {
     "name": "stdout",
     "output_type": "stream",
     "text": [
      "tensor([11413.6758], grad_fn=<MeanBackward1>)\n",
      "tensor([1.1427], grad_fn=<MulBackward0>)\n"
     ]
    }
   ],
   "source": [
    "cls_loss, reg_loss = loss(cls_preds, reg_preds, anchors, targets)\n",
    "print(cls_loss)\n",
    "print(reg_loss)"
   ]
  },
  {
   "cell_type": "code",
   "execution_count": 35,
   "id": "d1375c4d-847d-4233-85e7-4bbd147071d2",
   "metadata": {},
   "outputs": [],
   "source": [
    "average_loss = cls_loss.mean() + reg_loss.mean()"
   ]
  },
  {
   "cell_type": "markdown",
   "id": "eb566519-028b-4014-a39a-12da3fbe8fa8",
   "metadata": {},
   "source": [
    "# Inference"
   ]
  },
  {
   "cell_type": "code",
   "execution_count": 13,
   "id": "9e4ef7e1-3b67-4db0-a4ed-0a961e0ff45b",
   "metadata": {},
   "outputs": [],
   "source": [
    "import torch\n",
    "from flame.core.model.EfficientDetV1.efficientdet import EfficientDet\n",
    "\n",
    "compound_coef = 0\n",
    "\n",
    "model = EfficientDet(pretrained_weight=None,\n",
    "                     head_only=False,\n",
    "                     num_classes=90,\n",
    "                     compound_coef=compound_coef,\n",
    "                     backbone_pretrained=False,\n",
    "                     score_threshold=0.3)\n",
    "model.load_state_dict(torch.load(f'./checkpoint/efficientdet_pretrained_weight/efficientdet-d{compound_coef}.pth', map_location='cpu'))\n",
    "model = model.eval()"
   ]
  },
  {
   "cell_type": "code",
   "execution_count": 14,
   "id": "98d7ce2a-ff7a-4eff-909a-dd77c306ca52",
   "metadata": {},
   "outputs": [],
   "source": [
    "classes = ['person', 'bicycle', 'car', 'motorcycle', 'airplane', 'bus', 'train', 'truck', 'boat', 'traffic light',\n",
    "            'fire hydrant', '', 'stop sign', 'parking meter', 'bench', 'bird', 'cat', 'dog', 'horse', 'sheep',\n",
    "            'cow', 'elephant', 'bear', 'zebra', 'giraffe', '', 'backpack', 'umbrella', '', '', 'handbag', 'tie',\n",
    "            'suitcase', 'frisbee', 'skis', 'snowboard', 'sports ball', 'kite', 'baseball bat', 'baseball glove',\n",
    "            'skateboard', 'surfboard', 'tennis racket', 'bottle', '', 'wine glass', 'cup', 'fork', 'knife', 'spoon',\n",
    "            'bowl', 'banana', 'apple', 'sandwich', 'orange', 'broccoli', 'carrot', 'hot dog', 'pizza', 'donut',\n",
    "            'cake', 'chair', 'couch', 'potted plant', 'bed', '', 'dining table', '', '', 'toilet', '', 'tv',\n",
    "            'laptop', 'mouse', 'remote', 'keyboard', 'cell phone', 'microwave', 'oven', 'toaster', 'sink',\n",
    "            'refrigerator', '', 'book', 'clock', 'vase', 'scissors', 'teddy bear', 'hair drier',\n",
    "            'toothbrush']"
   ]
  },
  {
   "cell_type": "code",
   "execution_count": 15,
   "id": "950e6462-052b-42ad-a692-93383c00993e",
   "metadata": {},
   "outputs": [],
   "source": [
    "import cv2\n",
    "import torch\n",
    "import numpy as np\n",
    "import imgaug.augmenters as iaa\n",
    "\n",
    "pad_to_square = iaa.PadToSquare(position='right-bottom')\n",
    "device = 'cpu'\n",
    "\n",
    "mean = torch.tensor([0.485, 0.456, 0.406], dtype=torch.float, device=device).view(1, 3, 1, 1)\n",
    "std = torch.tensor([0.229, 0.224, 0.225], dtype=torch.float, device=device).view(1, 3, 1, 1)\n",
    "\n",
    "imsize = 512 + 128 * compound_coef\n",
    "\n",
    "def preprocess(image_paths, imsize=imsize, mean=mean, std=std, device=device):\n",
    "    images = [cv2.imread(image_path) for image_path in image_paths]\n",
    "    padded_images = [pad_to_square(image=image) for image in images]\n",
    "    samples = [cv2.cvtColor(padded_image, cv2.COLOR_BGR2RGB) for padded_image in padded_images]\n",
    "    samples = [cv2.resize(sample, dsize=(imsize, imsize)) for sample in samples]\n",
    "    samples = [torch.from_numpy(sample) for sample in samples]\n",
    "    samples = torch.stack(samples, dim=0).to(device)\n",
    "    samples = samples.permute(0, 3, 1, 2).contiguous()\n",
    "    samples = (samples.float().div(255.) - mean) / std\n",
    "    scales = [max(*image.shape) / imsize for image in images]\n",
    "    return images, scales, samples"
   ]
  },
  {
   "cell_type": "code",
   "execution_count": 16,
   "id": "ead04d55-c724-4e1f-85d3-8e50c328177d",
   "metadata": {},
   "outputs": [],
   "source": [
    "image_paths = ['./dataset/VOC2007/valid/000002.jpg',\n",
    "               './dataset/VOC2007/valid/000013.jpg',\n",
    "               './dataset/VOC2007/valid/000030.jpg']\n",
    "# image_paths = ['./dataset/VOC2007/valid/000002.jpg']\n",
    "images, scales, samples = preprocess(image_paths=image_paths)"
   ]
  },
  {
   "cell_type": "code",
   "execution_count": 17,
   "id": "11f0f487-eb31-4ac9-8f71-4ede20ecd3d2",
   "metadata": {},
   "outputs": [
    {
     "name": "stdout",
     "output_type": "stream",
     "text": [
      "prediction time: 0.8619728088378906s\n"
     ]
    }
   ],
   "source": [
    "import time\n",
    "t1 = time.time()\n",
    "with torch.no_grad():\n",
    "    predictions = model.inference(samples)\n",
    "t2 = time.time()\n",
    "print(f'prediction time: {t2 - t1}s')"
   ]
  },
  {
   "cell_type": "code",
   "execution_count": 18,
   "id": "26b3dcd3-2164-4d47-b63b-5c081199fa98",
   "metadata": {},
   "outputs": [
    {
     "data": {
      "text/plain": [
       "[{'boxes': tensor([[143.4083, 203.5088, 211.8467, 306.7638]]),\n",
       "  'labels': tensor([6]),\n",
       "  'scores': tensor([0.7441])},\n",
       " {'boxes': tensor([[303.4525, 163.6749, 457.1618, 257.0464]]),\n",
       "  'labels': tensor([20]),\n",
       "  'scores': tensor([0.8815])},\n",
       " {'boxes': tensor([[300.3644, 137.6334, 460.2697, 296.3701],\n",
       "          [ 56.8792, 164.4981, 152.5491, 292.8531],\n",
       "          [ 28.6209, 205.2891, 182.1070, 296.2229]]),\n",
       "  'labels': tensor([0, 0, 1]),\n",
       "  'scores': tensor([0.9399, 0.9148, 0.7222])}]"
      ]
     },
     "execution_count": 18,
     "metadata": {},
     "output_type": "execute_result"
    }
   ],
   "source": [
    "predictions"
   ]
  },
  {
   "cell_type": "code",
   "execution_count": 19,
   "id": "ab3a59d4-8dcc-49bb-83a1-4035ce16f6c1",
   "metadata": {},
   "outputs": [],
   "source": [
    "for image, scale, pred in zip(images, scales, predictions):\n",
    "    boxes = pred['boxes'].cpu().numpy()\n",
    "    labels = pred['labels'].cpu().numpy()\n",
    "    scores = pred['scores'].cpu().numpy()\n",
    "    class_names = [classes[label] for label in labels]\n",
    "    boxes[:, [0, 2]] = boxes[:, [0, 2]] * scale\n",
    "    boxes[:, [1, 3]] = boxes[:, [1, 3]] * scale\n",
    "    boxes = boxes.astype(np.int32)\n",
    "    for box, score, class_name in zip(boxes, scores, class_names):\n",
    "        color = (np.random.randint(200, 255),\n",
    "                 np.random.randint(50, 200),\n",
    "                 np.random.randint(0, 150))\n",
    "        cv2.putText(image,\n",
    "                    text=f'{class_name}',\n",
    "                    org=tuple(box[:2]),\n",
    "                    fontFace=cv2.FONT_HERSHEY_SIMPLEX,\n",
    "                    fontScale=0.001 * max(image.shape[0], image.shape[1]),\n",
    "                    color=color,\n",
    "                    thickness=1,\n",
    "                    lineType=cv2.LINE_AA)\n",
    "        cv2.rectangle(image, pt1=tuple(box[:2]), pt2=tuple(box[2:]), color=color, thickness=3)\n",
    "        cv2.imshow('a', image)\n",
    "        cv2.waitKey()\n",
    "        cv2.destroyAllWindows()"
   ]
  },
  {
   "cell_type": "code",
   "execution_count": null,
   "id": "c3f1e7c5-aa8b-41ea-9dcd-cfd3344f9752",
   "metadata": {},
   "outputs": [],
   "source": []
  }
 ],
 "metadata": {
  "kernelspec": {
   "display_name": "Python 3",
   "language": "python",
   "name": "python3"
  },
  "language_info": {
   "codemirror_mode": {
    "name": "ipython",
    "version": 3
   },
   "file_extension": ".py",
   "mimetype": "text/x-python",
   "name": "python",
   "nbconvert_exporter": "python",
   "pygments_lexer": "ipython3",
   "version": "3.7.9"
  }
 },
 "nbformat": 4,
 "nbformat_minor": 5
}
